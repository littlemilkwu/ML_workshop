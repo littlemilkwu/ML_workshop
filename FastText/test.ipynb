{
 "cells": [
  {
   "cell_type": "code",
   "execution_count": 1,
   "source": [
    "!wget https://dl.fbaipublicfiles.com/fasttext/vectors-crawl/cc.zh.300.bin.gz\n",
    "!gunzip cc.zh.300.bin.gz"
   ],
   "outputs": [
    {
     "output_type": "stream",
     "name": "stdout",
     "text": [
      "--2021-09-16 16:33:03--  https://dl.fbaipublicfiles.com/fasttext/vectors-crawl/cc.zh.300.bin.gz\n",
      "正在查找主機 dl.fbaipublicfiles.com (dl.fbaipublicfiles.com)... 172.67.9.4, 104.22.74.142, 104.22.75.142\n",
      "正在連接 dl.fbaipublicfiles.com (dl.fbaipublicfiles.com)|172.67.9.4|:443... 連上了。\n",
      "已送出 HTTP 要求，正在等候回應... 200 OK\n",
      "長度: 4478681770 (4.2G) [application/octet-stream]\n",
      "儲存到：「cc.zh.300.bin.gz」\n",
      "\n",
      "cc.zh.300.bin.gz    100%[===================>]   4.17G  9.99MB/s  於 7m 19s    \n",
      "\n",
      "2021-09-16 16:40:24 (9.72 MB/s) - 已儲存 「cc.zh.300.bin.gz」 [4478681770/4478681770]\n",
      "\n"
     ]
    }
   ],
   "metadata": {}
  },
  {
   "cell_type": "code",
   "execution_count": null,
   "source": [],
   "outputs": [],
   "metadata": {}
  }
 ],
 "metadata": {
  "orig_nbformat": 4,
  "language_info": {
   "name": "python",
   "version": "3.8.11",
   "mimetype": "text/x-python",
   "codemirror_mode": {
    "name": "ipython",
    "version": 3
   },
   "pygments_lexer": "ipython3",
   "nbconvert_exporter": "python",
   "file_extension": ".py"
  },
  "kernelspec": {
   "name": "python3",
   "display_name": "Python 3.8.11 64-bit ('ML_workshop': conda)"
  },
  "interpreter": {
   "hash": "aa156bad5c45b204a11d7d58485823703737cf70d6ca4252563a7670c480f6d3"
  }
 },
 "nbformat": 4,
 "nbformat_minor": 2
}